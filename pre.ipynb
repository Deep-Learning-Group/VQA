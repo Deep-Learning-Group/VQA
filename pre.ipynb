{
 "cells": [
  {
   "cell_type": "code",
   "execution_count": 1,
   "metadata": {
    "collapsed": true
   },
   "outputs": [],
   "source": [
    "import json\n",
    "import pandas as pd\n",
    "import numpy as np"
   ]
  },
  {
   "cell_type": "code",
   "execution_count": 61,
   "metadata": {
    "collapsed": true
   },
   "outputs": [],
   "source": [
    "import pickle"
   ]
  },
  {
   "cell_type": "code",
   "execution_count": 62,
   "metadata": {
    "collapsed": false
   },
   "outputs": [
    {
     "name": "stdout",
     "output_type": "stream",
     "text": [
      "total 112\r\n",
      "drwxrwxr-x 2 tron tron  4096 Oct 30 08:52 \u001b[0m\u001b[01;34mdata\u001b[0m/\r\n",
      "-rw-rw-r-- 1 tron tron 80360 Oct 29 21:42 per_pro.ipynb\r\n",
      "-rw-rw-r-- 1 tron tron     0 Oct 30 13:52 pre_data.pkl\r\n",
      "-rw-rw-r-- 1 tron tron 23964 Oct 30 13:53 pre.ipynb\r\n",
      "-rw-rw-r-- 1 tron tron   355 Oct 30 09:31 pre.py\r\n"
     ]
    }
   ],
   "source": [
    "ls -l"
   ]
  },
  {
   "cell_type": "code",
   "execution_count": 13,
   "metadata": {
    "collapsed": false
   },
   "outputs": [
    {
     "name": "stdout",
     "output_type": "stream",
     "text": [
      "\u001b[0m\u001b[01;34mdata\u001b[0m/  per_pro.ipynb  pre.ipynb  pre.py\r\n"
     ]
    }
   ],
   "source": [
    "ls"
   ]
  },
  {
   "cell_type": "code",
   "execution_count": 7,
   "metadata": {
    "collapsed": false
   },
   "outputs": [
    {
     "data": {
      "text/plain": [
       "list"
      ]
     },
     "execution_count": 7,
     "metadata": {},
     "output_type": "execute_result"
    }
   ],
   "source": [
    "type(ques_val_json['questions'])"
   ]
  },
  {
   "cell_type": "code",
   "execution_count": 9,
   "metadata": {
    "collapsed": false
   },
   "outputs": [],
   "source": [
    "with open('./data/Q_V.json') as f:\n",
    "    ques_val_json = json.loads(f.read())\n",
    "\n",
    "q_val = pd.DataFrame(ques_val_json['questions'])\n",
    "del ques_val_json"
   ]
  },
  {
   "cell_type": "code",
   "execution_count": 22,
   "metadata": {
    "collapsed": true
   },
   "outputs": [],
   "source": [
    "with open('./data/Q_T.json') as f:\n",
    "    ques_train_json = json.loads(f.read())\n",
    "\n",
    "q_train = pd.DataFrame(ques_train_json['questions'])\n",
    "del ques_val_json"
   ]
  },
  {
   "cell_type": "code",
   "execution_count": 18,
   "metadata": {
    "collapsed": true
   },
   "outputs": [],
   "source": [
    "with open('./data/A_V.json') as f:\n",
    "    ans_val_json = json.loads(f.read())\n",
    "\n",
    "a_val = pd.DataFrame(ans_val_json['annotations'])\n",
    "del ans_val_json"
   ]
  },
  {
   "cell_type": "code",
   "execution_count": 24,
   "metadata": {
    "collapsed": true
   },
   "outputs": [],
   "source": [
    "with open('./data/A_T.json') as f:\n",
    "    ans_train_json = json.loads(f.read())\n",
    "    \n",
    "a_train = pd.DataFrame(ans_train_json['annotations'])\n",
    "del ans_train_json"
   ]
  },
  {
   "cell_type": "code",
   "execution_count": 17,
   "metadata": {
    "collapsed": false
   },
   "outputs": [
    {
     "data": {
      "text/plain": [
       "Index([u'image_id', u'multiple_choices', u'question', u'question_id'], dtype='object')"
      ]
     },
     "execution_count": 17,
     "metadata": {},
     "output_type": "execute_result"
    }
   ],
   "source": [
    "q_val.columns"
   ]
  },
  {
   "cell_type": "code",
   "execution_count": 20,
   "metadata": {
    "collapsed": false
   },
   "outputs": [
    {
     "data": {
      "text/plain": [
       "(121512, 4)"
      ]
     },
     "execution_count": 20,
     "metadata": {},
     "output_type": "execute_result"
    }
   ],
   "source": [
    "q_val.shape"
   ]
  },
  {
   "cell_type": "code",
   "execution_count": 32,
   "metadata": {
    "collapsed": false
   },
   "outputs": [
    {
     "data": {
      "text/html": [
       "<div>\n",
       "<table border=\"1\" class=\"dataframe\">\n",
       "  <thead>\n",
       "    <tr style=\"text-align: right;\">\n",
       "      <th></th>\n",
       "      <th>image_id</th>\n",
       "      <th>question</th>\n",
       "      <th>question_id</th>\n",
       "    </tr>\n",
       "  </thead>\n",
       "  <tbody>\n",
       "    <tr>\n",
       "      <th>0</th>\n",
       "      <td>350623</td>\n",
       "      <td>What is the table made of?</td>\n",
       "      <td>3506232</td>\n",
       "    </tr>\n",
       "    <tr>\n",
       "      <th>1</th>\n",
       "      <td>350623</td>\n",
       "      <td>Is the food napping on the table?</td>\n",
       "      <td>3506230</td>\n",
       "    </tr>\n",
       "    <tr>\n",
       "      <th>2</th>\n",
       "      <td>350623</td>\n",
       "      <td>What has been upcycled to make lights?</td>\n",
       "      <td>3506231</td>\n",
       "    </tr>\n",
       "    <tr>\n",
       "      <th>3</th>\n",
       "      <td>8647</td>\n",
       "      <td>Is this an Spanish town?</td>\n",
       "      <td>86472</td>\n",
       "    </tr>\n",
       "    <tr>\n",
       "      <th>4</th>\n",
       "      <td>8647</td>\n",
       "      <td>Are there shadows on the sidewalk?</td>\n",
       "      <td>86470</td>\n",
       "    </tr>\n",
       "  </tbody>\n",
       "</table>\n",
       "</div>"
      ],
      "text/plain": [
       "   image_id                                question  question_id\n",
       "0    350623              What is the table made of?      3506232\n",
       "1    350623       Is the food napping on the table?      3506230\n",
       "2    350623  What has been upcycled to make lights?      3506231\n",
       "3      8647                Is this an Spanish town?        86472\n",
       "4      8647      Are there shadows on the sidewalk?        86470"
      ]
     },
     "execution_count": 32,
     "metadata": {},
     "output_type": "execute_result"
    }
   ],
   "source": [
    "q_val.ix[:,[0,2,3]].head()"
   ]
  },
  {
   "cell_type": "code",
   "execution_count": 19,
   "metadata": {
    "collapsed": false
   },
   "outputs": [
    {
     "data": {
      "text/plain": [
       "Index([u'answer_type', u'answers', u'image_id', u'multiple_choice_answer',\n",
       "       u'question_id', u'question_type'],\n",
       "      dtype='object')"
      ]
     },
     "execution_count": 19,
     "metadata": {},
     "output_type": "execute_result"
    }
   ],
   "source": [
    "a_val.columns"
   ]
  },
  {
   "cell_type": "code",
   "execution_count": 50,
   "metadata": {
    "collapsed": false
   },
   "outputs": [
    {
     "data": {
      "text/html": [
       "<div>\n",
       "<table border=\"1\" class=\"dataframe\">\n",
       "  <thead>\n",
       "    <tr style=\"text-align: right;\">\n",
       "      <th></th>\n",
       "      <th>answer_type</th>\n",
       "      <th>answers</th>\n",
       "      <th>image_id</th>\n",
       "      <th>multiple_choice_answer</th>\n",
       "      <th>question_id</th>\n",
       "      <th>question_type</th>\n",
       "    </tr>\n",
       "  </thead>\n",
       "  <tbody>\n",
       "    <tr>\n",
       "      <th>0</th>\n",
       "      <td>other</td>\n",
       "      <td>[{u'answer': u'wood', u'answer_confidence': u'...</td>\n",
       "      <td>350623</td>\n",
       "      <td>wood</td>\n",
       "      <td>3506232</td>\n",
       "      <td>what is the</td>\n",
       "    </tr>\n",
       "    <tr>\n",
       "      <th>1</th>\n",
       "      <td>yes/no</td>\n",
       "      <td>[{u'answer': u'no', u'answer_confidence': u'ye...</td>\n",
       "      <td>350623</td>\n",
       "      <td>no</td>\n",
       "      <td>3506230</td>\n",
       "      <td>is the</td>\n",
       "    </tr>\n",
       "    <tr>\n",
       "      <th>2</th>\n",
       "      <td>other</td>\n",
       "      <td>[{u'answer': u'kettles', u'answer_confidence':...</td>\n",
       "      <td>350623</td>\n",
       "      <td>kettles</td>\n",
       "      <td>3506231</td>\n",
       "      <td>what</td>\n",
       "    </tr>\n",
       "    <tr>\n",
       "      <th>3</th>\n",
       "      <td>yes/no</td>\n",
       "      <td>[{u'answer': u'yes', u'answer_confidence': u'm...</td>\n",
       "      <td>8647</td>\n",
       "      <td>no</td>\n",
       "      <td>86472</td>\n",
       "      <td>is this an</td>\n",
       "    </tr>\n",
       "    <tr>\n",
       "      <th>4</th>\n",
       "      <td>yes/no</td>\n",
       "      <td>[{u'answer': u'yes', u'answer_confidence': u'y...</td>\n",
       "      <td>8647</td>\n",
       "      <td>yes</td>\n",
       "      <td>86470</td>\n",
       "      <td>are there</td>\n",
       "    </tr>\n",
       "  </tbody>\n",
       "</table>\n",
       "</div>"
      ],
      "text/plain": [
       "  answer_type                                            answers  image_id  \\\n",
       "0       other  [{u'answer': u'wood', u'answer_confidence': u'...    350623   \n",
       "1      yes/no  [{u'answer': u'no', u'answer_confidence': u'ye...    350623   \n",
       "2       other  [{u'answer': u'kettles', u'answer_confidence':...    350623   \n",
       "3      yes/no  [{u'answer': u'yes', u'answer_confidence': u'm...      8647   \n",
       "4      yes/no  [{u'answer': u'yes', u'answer_confidence': u'y...      8647   \n",
       "\n",
       "  multiple_choice_answer  question_id question_type  \n",
       "0                   wood      3506232   what is the  \n",
       "1                     no      3506230        is the  \n",
       "2                kettles      3506231          what  \n",
       "3                     no        86472    is this an  \n",
       "4                    yes        86470     are there  "
      ]
     },
     "execution_count": 50,
     "metadata": {},
     "output_type": "execute_result"
    }
   ],
   "source": [
    "a_val.head()"
   ]
  },
  {
   "cell_type": "code",
   "execution_count": 40,
   "metadata": {
    "collapsed": false
   },
   "outputs": [
    {
     "data": {
      "text/plain": [
       "0       wood\n",
       "1         no\n",
       "2    kettles\n",
       "3         no\n",
       "4        yes\n",
       "Name: multiple_choice_answer, dtype: object"
      ]
     },
     "execution_count": 40,
     "metadata": {},
     "output_type": "execute_result"
    }
   ],
   "source": [
    "a_val.ix[:,3].head()"
   ]
  },
  {
   "cell_type": "code",
   "execution_count": 41,
   "metadata": {
    "collapsed": true
   },
   "outputs": [],
   "source": [
    "q_val['answer'] = a_val.ix[:,3]"
   ]
  },
  {
   "cell_type": "code",
   "execution_count": 42,
   "metadata": {
    "collapsed": false
   },
   "outputs": [
    {
     "data": {
      "text/plain": [
       "Index([u'image_id', u'multiple_choices', u'question', u'question_id',\n",
       "       u'answer'],\n",
       "      dtype='object')"
      ]
     },
     "execution_count": 42,
     "metadata": {},
     "output_type": "execute_result"
    }
   ],
   "source": [
    "q_val.columns"
   ]
  },
  {
   "cell_type": "code",
   "execution_count": 45,
   "metadata": {
    "collapsed": false
   },
   "outputs": [
    {
     "data": {
      "text/html": [
       "<div>\n",
       "<table border=\"1\" class=\"dataframe\">\n",
       "  <thead>\n",
       "    <tr style=\"text-align: right;\">\n",
       "      <th></th>\n",
       "      <th>image_id</th>\n",
       "      <th>multiple_choices</th>\n",
       "      <th>question</th>\n",
       "      <th>question_id</th>\n",
       "      <th>answer</th>\n",
       "    </tr>\n",
       "  </thead>\n",
       "  <tbody>\n",
       "    <tr>\n",
       "      <th>0</th>\n",
       "      <td>350623</td>\n",
       "      <td>[4, green, no, metal, 2, blue, plastic, marble...</td>\n",
       "      <td>What is the table made of?</td>\n",
       "      <td>3506232</td>\n",
       "      <td>wood</td>\n",
       "    </tr>\n",
       "    <tr>\n",
       "      <th>1</th>\n",
       "      <td>350623</td>\n",
       "      <td>[tv is on, red, blue, 3, green, no, white, yes...</td>\n",
       "      <td>Is the food napping on the table?</td>\n",
       "      <td>3506230</td>\n",
       "      <td>no</td>\n",
       "    </tr>\n",
       "    <tr>\n",
       "      <th>2</th>\n",
       "      <td>350623</td>\n",
       "      <td>[3, build bear, no, blue, bulbs, green, 1, whi...</td>\n",
       "      <td>What has been upcycled to make lights?</td>\n",
       "      <td>3506231</td>\n",
       "      <td>kettles</td>\n",
       "    </tr>\n",
       "    <tr>\n",
       "      <th>3</th>\n",
       "      <td>8647</td>\n",
       "      <td>[n, 1, green, international bass musician, bir...</td>\n",
       "      <td>Is this an Spanish town?</td>\n",
       "      <td>86472</td>\n",
       "      <td>no</td>\n",
       "    </tr>\n",
       "    <tr>\n",
       "      <th>4</th>\n",
       "      <td>8647</td>\n",
       "      <td>[blue, mo, detour, no, raccoon, yes, green, 4,...</td>\n",
       "      <td>Are there shadows on the sidewalk?</td>\n",
       "      <td>86470</td>\n",
       "      <td>yes</td>\n",
       "    </tr>\n",
       "  </tbody>\n",
       "</table>\n",
       "</div>"
      ],
      "text/plain": [
       "   image_id                                   multiple_choices  \\\n",
       "0    350623  [4, green, no, metal, 2, blue, plastic, marble...   \n",
       "1    350623  [tv is on, red, blue, 3, green, no, white, yes...   \n",
       "2    350623  [3, build bear, no, blue, bulbs, green, 1, whi...   \n",
       "3      8647  [n, 1, green, international bass musician, bir...   \n",
       "4      8647  [blue, mo, detour, no, raccoon, yes, green, 4,...   \n",
       "\n",
       "                                 question  question_id   answer  \n",
       "0              What is the table made of?      3506232     wood  \n",
       "1       Is the food napping on the table?      3506230       no  \n",
       "2  What has been upcycled to make lights?      3506231  kettles  \n",
       "3                Is this an Spanish town?        86472       no  \n",
       "4      Are there shadows on the sidewalk?        86470      yes  "
      ]
     },
     "execution_count": 45,
     "metadata": {},
     "output_type": "execute_result"
    }
   ],
   "source": [
    "q_val.head()"
   ]
  },
  {
   "cell_type": "code",
   "execution_count": 52,
   "metadata": {
    "collapsed": false
   },
   "outputs": [
    {
     "name": "stderr",
     "output_type": "stream",
     "text": [
      "/usr/local/lib/python2.7/dist-packages/ipykernel/__main__.py:2: SettingWithCopyWarning: \n",
      "A value is trying to be set on a copy of a slice from a DataFrame.\n",
      "Try using .loc[row_indexer,col_indexer] = value instead\n",
      "\n",
      "See the caveats in the documentation: http://pandas.pydata.org/pandas-docs/stable/indexing.html#indexing-view-versus-copy\n",
      "  from ipykernel import kernelapp as app\n"
     ]
    }
   ],
   "source": [
    "val = q_val.ix[:,[0,2,3]]\n",
    "val['answer'] = pd.Series(a_val.ix[:,3])"
   ]
  },
  {
   "cell_type": "code",
   "execution_count": 48,
   "metadata": {
    "collapsed": false
   },
   "outputs": [
    {
     "data": {
      "text/html": [
       "<div>\n",
       "<table border=\"1\" class=\"dataframe\">\n",
       "  <thead>\n",
       "    <tr style=\"text-align: right;\">\n",
       "      <th></th>\n",
       "      <th>image_id</th>\n",
       "      <th>question</th>\n",
       "      <th>question_id</th>\n",
       "      <th>answer</th>\n",
       "    </tr>\n",
       "  </thead>\n",
       "  <tbody>\n",
       "    <tr>\n",
       "      <th>0</th>\n",
       "      <td>350623</td>\n",
       "      <td>What is the table made of?</td>\n",
       "      <td>3506232</td>\n",
       "      <td>wood</td>\n",
       "    </tr>\n",
       "    <tr>\n",
       "      <th>1</th>\n",
       "      <td>350623</td>\n",
       "      <td>Is the food napping on the table?</td>\n",
       "      <td>3506230</td>\n",
       "      <td>no</td>\n",
       "    </tr>\n",
       "    <tr>\n",
       "      <th>2</th>\n",
       "      <td>350623</td>\n",
       "      <td>What has been upcycled to make lights?</td>\n",
       "      <td>3506231</td>\n",
       "      <td>kettles</td>\n",
       "    </tr>\n",
       "    <tr>\n",
       "      <th>3</th>\n",
       "      <td>8647</td>\n",
       "      <td>Is this an Spanish town?</td>\n",
       "      <td>86472</td>\n",
       "      <td>no</td>\n",
       "    </tr>\n",
       "    <tr>\n",
       "      <th>4</th>\n",
       "      <td>8647</td>\n",
       "      <td>Are there shadows on the sidewalk?</td>\n",
       "      <td>86470</td>\n",
       "      <td>yes</td>\n",
       "    </tr>\n",
       "  </tbody>\n",
       "</table>\n",
       "</div>"
      ],
      "text/plain": [
       "   image_id                                question  question_id   answer\n",
       "0    350623              What is the table made of?      3506232     wood\n",
       "1    350623       Is the food napping on the table?      3506230       no\n",
       "2    350623  What has been upcycled to make lights?      3506231  kettles\n",
       "3      8647                Is this an Spanish town?        86472       no\n",
       "4      8647      Are there shadows on the sidewalk?        86470      yes"
      ]
     },
     "execution_count": 48,
     "metadata": {},
     "output_type": "execute_result"
    }
   ],
   "source": [
    "val.head()"
   ]
  },
  {
   "cell_type": "code",
   "execution_count": 53,
   "metadata": {
    "collapsed": true
   },
   "outputs": [],
   "source": [
    "q_val['answer']=a_val.ix[:,3]"
   ]
  },
  {
   "cell_type": "code",
   "execution_count": 55,
   "metadata": {
    "collapsed": false
   },
   "outputs": [
    {
     "data": {
      "text/html": [
       "<div>\n",
       "<table border=\"1\" class=\"dataframe\">\n",
       "  <thead>\n",
       "    <tr style=\"text-align: right;\">\n",
       "      <th></th>\n",
       "      <th>image_id</th>\n",
       "      <th>multiple_choices</th>\n",
       "      <th>question</th>\n",
       "      <th>question_id</th>\n",
       "      <th>answer</th>\n",
       "    </tr>\n",
       "  </thead>\n",
       "  <tbody>\n",
       "    <tr>\n",
       "      <th>0</th>\n",
       "      <td>350623</td>\n",
       "      <td>[4, green, no, metal, 2, blue, plastic, marble...</td>\n",
       "      <td>What is the table made of?</td>\n",
       "      <td>3506232</td>\n",
       "      <td>wood</td>\n",
       "    </tr>\n",
       "    <tr>\n",
       "      <th>1</th>\n",
       "      <td>350623</td>\n",
       "      <td>[tv is on, red, blue, 3, green, no, white, yes...</td>\n",
       "      <td>Is the food napping on the table?</td>\n",
       "      <td>3506230</td>\n",
       "      <td>no</td>\n",
       "    </tr>\n",
       "    <tr>\n",
       "      <th>2</th>\n",
       "      <td>350623</td>\n",
       "      <td>[3, build bear, no, blue, bulbs, green, 1, whi...</td>\n",
       "      <td>What has been upcycled to make lights?</td>\n",
       "      <td>3506231</td>\n",
       "      <td>kettles</td>\n",
       "    </tr>\n",
       "    <tr>\n",
       "      <th>3</th>\n",
       "      <td>8647</td>\n",
       "      <td>[n, 1, green, international bass musician, bir...</td>\n",
       "      <td>Is this an Spanish town?</td>\n",
       "      <td>86472</td>\n",
       "      <td>no</td>\n",
       "    </tr>\n",
       "    <tr>\n",
       "      <th>4</th>\n",
       "      <td>8647</td>\n",
       "      <td>[blue, mo, detour, no, raccoon, yes, green, 4,...</td>\n",
       "      <td>Are there shadows on the sidewalk?</td>\n",
       "      <td>86470</td>\n",
       "      <td>yes</td>\n",
       "    </tr>\n",
       "  </tbody>\n",
       "</table>\n",
       "</div>"
      ],
      "text/plain": [
       "   image_id                                   multiple_choices  \\\n",
       "0    350623  [4, green, no, metal, 2, blue, plastic, marble...   \n",
       "1    350623  [tv is on, red, blue, 3, green, no, white, yes...   \n",
       "2    350623  [3, build bear, no, blue, bulbs, green, 1, whi...   \n",
       "3      8647  [n, 1, green, international bass musician, bir...   \n",
       "4      8647  [blue, mo, detour, no, raccoon, yes, green, 4,...   \n",
       "\n",
       "                                 question  question_id   answer  \n",
       "0              What is the table made of?      3506232     wood  \n",
       "1       Is the food napping on the table?      3506230       no  \n",
       "2  What has been upcycled to make lights?      3506231  kettles  \n",
       "3                Is this an Spanish town?        86472       no  \n",
       "4      Are there shadows on the sidewalk?        86470      yes  "
      ]
     },
     "execution_count": 55,
     "metadata": {},
     "output_type": "execute_result"
    }
   ],
   "source": [
    "q_val.head()"
   ]
  },
  {
   "cell_type": "code",
   "execution_count": 59,
   "metadata": {
    "collapsed": false
   },
   "outputs": [],
   "source": [
    "v_data = q_val.drop(['multiple_choices','question_id'],axis=1)"
   ]
  },
  {
   "cell_type": "code",
   "execution_count": 60,
   "metadata": {
    "collapsed": false
   },
   "outputs": [
    {
     "data": {
      "text/html": [
       "<div>\n",
       "<table border=\"1\" class=\"dataframe\">\n",
       "  <thead>\n",
       "    <tr style=\"text-align: right;\">\n",
       "      <th></th>\n",
       "      <th>image_id</th>\n",
       "      <th>question</th>\n",
       "      <th>answer</th>\n",
       "    </tr>\n",
       "  </thead>\n",
       "  <tbody>\n",
       "    <tr>\n",
       "      <th>0</th>\n",
       "      <td>350623</td>\n",
       "      <td>What is the table made of?</td>\n",
       "      <td>wood</td>\n",
       "    </tr>\n",
       "    <tr>\n",
       "      <th>1</th>\n",
       "      <td>350623</td>\n",
       "      <td>Is the food napping on the table?</td>\n",
       "      <td>no</td>\n",
       "    </tr>\n",
       "    <tr>\n",
       "      <th>2</th>\n",
       "      <td>350623</td>\n",
       "      <td>What has been upcycled to make lights?</td>\n",
       "      <td>kettles</td>\n",
       "    </tr>\n",
       "    <tr>\n",
       "      <th>3</th>\n",
       "      <td>8647</td>\n",
       "      <td>Is this an Spanish town?</td>\n",
       "      <td>no</td>\n",
       "    </tr>\n",
       "    <tr>\n",
       "      <th>4</th>\n",
       "      <td>8647</td>\n",
       "      <td>Are there shadows on the sidewalk?</td>\n",
       "      <td>yes</td>\n",
       "    </tr>\n",
       "  </tbody>\n",
       "</table>\n",
       "</div>"
      ],
      "text/plain": [
       "   image_id                                question   answer\n",
       "0    350623              What is the table made of?     wood\n",
       "1    350623       Is the food napping on the table?       no\n",
       "2    350623  What has been upcycled to make lights?  kettles\n",
       "3      8647                Is this an Spanish town?       no\n",
       "4      8647      Are there shadows on the sidewalk?      yes"
      ]
     },
     "execution_count": 60,
     "metadata": {},
     "output_type": "execute_result"
    }
   ],
   "source": [
    "v_data.head()"
   ]
  },
  {
   "cell_type": "code",
   "execution_count": null,
   "metadata": {
    "collapsed": true
   },
   "outputs": [],
   "source": []
  },
  {
   "cell_type": "code",
   "execution_count": 66,
   "metadata": {
    "collapsed": false
   },
   "outputs": [],
   "source": [
    "v_data.to_pickle('pre_data.pkl')"
   ]
  },
  {
   "cell_type": "code",
   "execution_count": null,
   "metadata": {
    "collapsed": true
   },
   "outputs": [],
   "source": []
  }
 ],
 "metadata": {
  "kernelspec": {
   "display_name": "Python 2",
   "language": "python",
   "name": "python2"
  },
  "language_info": {
   "codemirror_mode": {
    "name": "ipython",
    "version": 2
   },
   "file_extension": ".py",
   "mimetype": "text/x-python",
   "name": "python",
   "nbconvert_exporter": "python",
   "pygments_lexer": "ipython2",
   "version": "2.7.6"
  }
 },
 "nbformat": 4,
 "nbformat_minor": 1
}
