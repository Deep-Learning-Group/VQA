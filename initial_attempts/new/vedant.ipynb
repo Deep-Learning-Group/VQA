{
 "cells": [
  {
   "cell_type": "code",
   "execution_count": 1,
   "metadata": {
    "collapsed": true
   },
   "outputs": [],
   "source": [
    "import pandas as pd\n",
    "import numpy as np\n",
    "import json"
   ]
  },
  {
   "cell_type": "code",
   "execution_count": 2,
   "metadata": {
    "collapsed": false
   },
   "outputs": [
    {
     "name": "stdout",
     "output_type": "stream",
     "text": [
      "mscoco_train2014_annotations.json               vedant.ipynb\r\n",
      "MultipleChoice_mscoco_train2014_questions.json\r\n"
     ]
    }
   ],
   "source": [
    "ls"
   ]
  },
  {
   "cell_type": "code",
   "execution_count": 3,
   "metadata": {
    "collapsed": true
   },
   "outputs": [],
   "source": [
    "questions = None\n",
    "answers = None\n",
    "\n",
    "t_q_json_file = 'MultipleChoice_mscoco_train2014_questions.json'\n",
    "t_a_json_file =  'mscoco_train2014_annotations.json'"
   ]
  },
  {
   "cell_type": "code",
   "execution_count": 5,
   "metadata": {
    "collapsed": false
   },
   "outputs": [
    {
     "name": "stdout",
     "output_type": "stream",
     "text": [
      "Loading Training questions\n",
      "Loading Training anwers\n"
     ]
    }
   ],
   "source": [
    "print \"Loading Training questions\"\n",
    "with open(t_q_json_file) as f:\n",
    "    t_questions = json.loads(f.read())\n",
    " \n",
    "print \"Loading Training anwers\"\n",
    "with open(t_a_json_file) as f:\n",
    "    t_answers = json.loads(f.read())\n"
   ]
  },
  {
   "cell_type": "code",
   "execution_count": 6,
   "metadata": {
    "collapsed": false
   },
   "outputs": [
    {
     "name": "stdout",
     "output_type": "stream",
     "text": [
      "Ans 248349\n",
      "Qu 248349\n"
     ]
    }
   ],
   "source": [
    "print \"Ans\", len(t_answers['annotations'])\n",
    "print \"Qu\", len(t_questions['questions'])"
   ]
  },
  {
   "cell_type": "code",
   "execution_count": 7,
   "metadata": {
    "collapsed": true
   },
   "outputs": [],
   "source": [
    "answers = t_answers['annotations'] \n",
    "questions = t_questions['questions'] "
   ]
  },
  {
   "cell_type": "code",
   "execution_count": 14,
   "metadata": {
    "collapsed": false
   },
   "outputs": [],
   "source": [
    "ans = pd.DataFrame(answers)"
   ]
  },
  {
   "cell_type": "code",
   "execution_count": 15,
   "metadata": {
    "collapsed": false
   },
   "outputs": [
    {
     "data": {
      "text/html": [
       "<div>\n",
       "<table border=\"1\" class=\"dataframe\">\n",
       "  <thead>\n",
       "    <tr style=\"text-align: right;\">\n",
       "      <th></th>\n",
       "      <th>answer_type</th>\n",
       "      <th>answers</th>\n",
       "      <th>image_id</th>\n",
       "      <th>multiple_choice_answer</th>\n",
       "      <th>question_id</th>\n",
       "      <th>question_type</th>\n",
       "    </tr>\n",
       "  </thead>\n",
       "  <tbody>\n",
       "    <tr>\n",
       "      <th>0</th>\n",
       "      <td>other</td>\n",
       "      <td>[{u'answer': u'oval', u'answer_confidence': u'...</td>\n",
       "      <td>487025</td>\n",
       "      <td>curved</td>\n",
       "      <td>4870250</td>\n",
       "      <td>what</td>\n",
       "    </tr>\n",
       "    <tr>\n",
       "      <th>1</th>\n",
       "      <td>yes/no</td>\n",
       "      <td>[{u'answer': u'yes', u'answer_confidence': u'y...</td>\n",
       "      <td>487025</td>\n",
       "      <td>yes</td>\n",
       "      <td>4870251</td>\n",
       "      <td>is there a</td>\n",
       "    </tr>\n",
       "    <tr>\n",
       "      <th>2</th>\n",
       "      <td>other</td>\n",
       "      <td>[{u'answer': u'1', u'answer_confidence': u'yes...</td>\n",
       "      <td>487025</td>\n",
       "      <td>1</td>\n",
       "      <td>4870252</td>\n",
       "      <td>is this</td>\n",
       "    </tr>\n",
       "    <tr>\n",
       "      <th>3</th>\n",
       "      <td>yes/no</td>\n",
       "      <td>[{u'answer': u'no', u'answer_confidence': u'ye...</td>\n",
       "      <td>78077</td>\n",
       "      <td>no</td>\n",
       "      <td>780770</td>\n",
       "      <td>is this a</td>\n",
       "    </tr>\n",
       "    <tr>\n",
       "      <th>4</th>\n",
       "      <td>other</td>\n",
       "      <td>[{u'answer': u'white', u'answer_confidence': u...</td>\n",
       "      <td>78077</td>\n",
       "      <td>white</td>\n",
       "      <td>780771</td>\n",
       "      <td>what color is the</td>\n",
       "    </tr>\n",
       "  </tbody>\n",
       "</table>\n",
       "</div>"
      ],
      "text/plain": [
       "  answer_type                                            answers  image_id  \\\n",
       "0       other  [{u'answer': u'oval', u'answer_confidence': u'...    487025   \n",
       "1      yes/no  [{u'answer': u'yes', u'answer_confidence': u'y...    487025   \n",
       "2       other  [{u'answer': u'1', u'answer_confidence': u'yes...    487025   \n",
       "3      yes/no  [{u'answer': u'no', u'answer_confidence': u'ye...     78077   \n",
       "4       other  [{u'answer': u'white', u'answer_confidence': u...     78077   \n",
       "\n",
       "  multiple_choice_answer  question_id      question_type  \n",
       "0                 curved      4870250               what  \n",
       "1                    yes      4870251         is there a  \n",
       "2                      1      4870252            is this  \n",
       "3                     no       780770          is this a  \n",
       "4                  white       780771  what color is the  "
      ]
     },
     "execution_count": 15,
     "metadata": {},
     "output_type": "execute_result"
    }
   ],
   "source": [
    "ans.head()"
   ]
  },
  {
   "cell_type": "code",
   "execution_count": 16,
   "metadata": {
    "collapsed": true
   },
   "outputs": [],
   "source": [
    "que = pd.DataFrame(questions)"
   ]
  },
  {
   "cell_type": "code",
   "execution_count": 17,
   "metadata": {
    "collapsed": false
   },
   "outputs": [
    {
     "data": {
      "text/html": [
       "<div>\n",
       "<table border=\"1\" class=\"dataframe\">\n",
       "  <thead>\n",
       "    <tr style=\"text-align: right;\">\n",
       "      <th></th>\n",
       "      <th>image_id</th>\n",
       "      <th>multiple_choices</th>\n",
       "      <th>question</th>\n",
       "      <th>question_id</th>\n",
       "    </tr>\n",
       "  </thead>\n",
       "  <tbody>\n",
       "    <tr>\n",
       "      <th>0</th>\n",
       "      <td>487025</td>\n",
       "      <td>[square, 1, w 26th st, white, rectangular, 2, ...</td>\n",
       "      <td>What shape is the bench seat?</td>\n",
       "      <td>4870250</td>\n",
       "    </tr>\n",
       "    <tr>\n",
       "      <th>1</th>\n",
       "      <td>487025</td>\n",
       "      <td>[north carolina, against wall, 1, 3, cookbook,...</td>\n",
       "      <td>Is there a shadow?</td>\n",
       "      <td>4870251</td>\n",
       "    </tr>\n",
       "    <tr>\n",
       "      <th>2</th>\n",
       "      <td>487025</td>\n",
       "      <td>[3, red, circular, indoors, 1 bench, no, green...</td>\n",
       "      <td>Is this one bench or multiple benches?</td>\n",
       "      <td>4870252</td>\n",
       "    </tr>\n",
       "    <tr>\n",
       "      <th>3</th>\n",
       "      <td>78077</td>\n",
       "      <td>[equestrian, ravioli, 3, laser, blue, yes,, 1,...</td>\n",
       "      <td>Is this a modern train?</td>\n",
       "      <td>780770</td>\n",
       "    </tr>\n",
       "    <tr>\n",
       "      <th>4</th>\n",
       "      <td>78077</td>\n",
       "      <td>[leave me, hero, yes, yellow, gray, green, 2, ...</td>\n",
       "      <td>What color is the stripe on the train?</td>\n",
       "      <td>780771</td>\n",
       "    </tr>\n",
       "  </tbody>\n",
       "</table>\n",
       "</div>"
      ],
      "text/plain": [
       "   image_id                                   multiple_choices  \\\n",
       "0    487025  [square, 1, w 26th st, white, rectangular, 2, ...   \n",
       "1    487025  [north carolina, against wall, 1, 3, cookbook,...   \n",
       "2    487025  [3, red, circular, indoors, 1 bench, no, green...   \n",
       "3     78077  [equestrian, ravioli, 3, laser, blue, yes,, 1,...   \n",
       "4     78077  [leave me, hero, yes, yellow, gray, green, 2, ...   \n",
       "\n",
       "                                 question  question_id  \n",
       "0           What shape is the bench seat?      4870250  \n",
       "1                      Is there a shadow?      4870251  \n",
       "2  Is this one bench or multiple benches?      4870252  \n",
       "3                 Is this a modern train?       780770  \n",
       "4  What color is the stripe on the train?       780771  "
      ]
     },
     "execution_count": 17,
     "metadata": {},
     "output_type": "execute_result"
    }
   ],
   "source": [
    "que.head()"
   ]
  },
  {
   "cell_type": "code",
   "execution_count": null,
   "metadata": {
    "collapsed": true
   },
   "outputs": [],
   "source": []
  }
 ],
 "metadata": {
  "kernelspec": {
   "display_name": "Python 2",
   "language": "python",
   "name": "python2"
  },
  "language_info": {
   "codemirror_mode": {
    "name": "ipython",
    "version": 2
   },
   "file_extension": ".py",
   "mimetype": "text/x-python",
   "name": "python",
   "nbconvert_exporter": "python",
   "pygments_lexer": "ipython2",
   "version": "2.7.12"
  }
 },
 "nbformat": 4,
 "nbformat_minor": 0
}
