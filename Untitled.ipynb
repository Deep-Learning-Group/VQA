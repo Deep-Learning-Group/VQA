{
 "cells": [
  {
   "cell_type": "code",
   "execution_count": 1,
   "metadata": {
    "collapsed": false
   },
   "outputs": [
    {
     "name": "stderr",
     "output_type": "stream",
     "text": [
      "Using TensorFlow backend.\n"
     ]
    }
   ],
   "source": [
    "import json\n",
    "import pandas as pd\n",
    "import numpy as np\n",
    "import pickle\n",
    "import h5py\n",
    "from collections import Counter\n",
    "import nltk\n",
    "#nltk.download('punkt') if needed\n",
    "from keras.models import Sequential\n",
    "from keras.layers import Dense, Activation, Dropout, LSTM, Flatten, Embedding, Merge\n",
    "from keras.preprocessing.text import Tokenizer\n",
    "from keras.preprocessing.sequence import pad_sequences\n",
    "from keras.preprocessing.text import base_filter\n",
    "from keras.utils import np_utils\n",
    "from keras.layers import Embedding\n",
    "import scipy as sc\n",
    "from keras.layers.core import Reshape"
   ]
  },
  {
   "cell_type": "code",
   "execution_count": 3,
   "metadata": {
    "collapsed": true
   },
   "outputs": [],
   "source": [
    "def dataframe_list(df):\n",
    "#     ques_list = [s.encode('ascii') for s in list(df.question.values)]\n",
    "#     ans_list = [s.encode('ascii') for s in list(df.answer.values)]\n",
    "    ques_list = df.question.values.tolist()\n",
    "    ans_list = df.answer.values.tolist()\n",
    "    image_list = df.image_id.values.tolist()\n",
    "    return ques_list,ans_list,image_list\n"
   ]
  },
  {
   "cell_type": "code",
   "execution_count": 5,
   "metadata": {
    "collapsed": true
   },
   "outputs": [],
   "source": [
    "with open('emb_dic.pickle', 'rb') as f:\n",
    "    embedding_dic = pickle.load(f)\n",
    "\n",
    "def get_ques_matrix(ques_list,dic,ques_size=25):\n",
    "    \n",
    "    ques_matrix = np.zeros(shape=(len(ques_list),ques_size))\n",
    "    \n",
    "    for i in range(len(ques_list)):\n",
    "        words = nltk.word_tokenize(ques_list[i])\n",
    "        for j in range(len(words)):\n",
    "            try :\n",
    "                ques_matrix[i,-len(words)+j] = dic[words[j]]\n",
    "            except:\n",
    "                ques_matrix[i,-len(words)+j] = 0\n",
    "    \n",
    "    return ques_matrix"
   ]
  },
  {
   "cell_type": "code",
   "execution_count": 7,
   "metadata": {
    "collapsed": true
   },
   "outputs": [],
   "source": [
    "def create_ans_dic(ans_list,max_val=1000):\n",
    "    import operator\n",
    "    from collections import defaultdict\n",
    "    freq = defaultdict(int)\n",
    "    for line in ans_list:\n",
    "        for word in nltk.word_tokenize(str(line)):\n",
    "            freq[word.lower()]+=1\n",
    "\n",
    "    sort_freq = sorted(freq.items(),key=operator.itemgetter(1),reverse=True)[0:max_val]\n",
    "    top_answers, top_fq = zip(*sort_freq)\n",
    "    dic = {}\n",
    "    for ids,words in enumerate(top_answers):\n",
    "        dic[words] = ids\n",
    "\n",
    "    return dic\n",
    "\n",
    "def get_ans_matrix(ans_list,dic,max_value=1001):    \n",
    "    ans_matrix = np.zeros(shape=(len(ans_list),max_value))\n",
    "    \n",
    "    for i in range(len(ans_list[:10])):\n",
    "        try:\n",
    "            ans_matrix[i,dic[ans_list[i]]]=1\n",
    "        except:\n",
    "            ans_matrix[i,1000]=1\n",
    "    return ans_matrix"
   ]
  },
  {
   "cell_type": "code",
   "execution_count": 9,
   "metadata": {
    "collapsed": true
   },
   "outputs": [],
   "source": [
    "def get_image_features(img_ids,vgg_model_path):\n",
    "    features_struct = sc.io.loadmat(vgg_model_path)\n",
    "    VGGfeatures = features_struct['feats']\n",
    "    id_map = {}\n",
    "    for ids in img_ids:\n",
    "        ids_split = ids.split()\n",
    "        id_map[id_split[0]] = int(id_split[1])\n",
    "    nb_samples = len(img_ids)\n",
    "    nb_dimensions = VGGfeatures.shape[0]\n",
    "    image_matrix = np.zeros((nb_samples, nb_dimensions))\n",
    "    for j in range(nb_samples):\n",
    "        image_matrix[j,:] = VGGfeatures[:,id_map[img_ids[j]]]\n",
    "    return image_matrix"
   ]
  },
  {
   "cell_type": "code",
   "execution_count": 2,
   "metadata": {
    "collapsed": true
   },
   "outputs": [],
   "source": [
    "test = pd.read_hdf('data.h5','test')\n",
    "train = pd.read_hdf('data.h5','train')"
   ]
  },
  {
   "cell_type": "code",
   "execution_count": 4,
   "metadata": {
    "collapsed": true
   },
   "outputs": [],
   "source": [
    "train_q,train_a,train_img = dataframe_list(train)\n",
    "test_q,test_a,test_img = dataframe_list(test)"
   ]
  },
  {
   "cell_type": "code",
   "execution_count": 6,
   "metadata": {
    "collapsed": true
   },
   "outputs": [],
   "source": [
    "X_train = get_ques_matrix(train_q,embedding_dic)\n",
    "X_test = get_ques_matrix(test_q,embedding_dic)"
   ]
  },
  {
   "cell_type": "code",
   "execution_count": 8,
   "metadata": {
    "collapsed": true
   },
   "outputs": [],
   "source": [
    "train_dic = create_ans_dic(train_a)\n",
    "Y_train = get_ans_matrix(train_a,train_dic)\n",
    "\n",
    "test_dic = create_ans_dic(test_a)\n",
    "Y_test = get_ans_matrix(test_a,test_dic)"
   ]
  },
  {
   "cell_type": "code",
   "execution_count": null,
   "metadata": {
    "collapsed": true
   },
   "outputs": [],
   "source": [
    "# imagesss..."
   ]
  },
  {
   "cell_type": "code",
   "execution_count": null,
   "metadata": {
    "collapsed": true
   },
   "outputs": [],
   "source": [
    "def create_network():\n",
    "#         embedding_matrix = embedding.load()\n",
    "        embedding_model = Sequential()\n",
    "        embedding_model.add(Embedding(embedding_matrix.shape[0],embedding_matrix.shape[1],weights = [embedding_matrix],input_length = 25,trainable = False ))\n",
    "        image_model = Sequential()\n",
    "        image_model.add(Dense(embedding_matrix.shape[1],input_dim=4096,activation='linear' ))\n",
    "        image_model.add(Reshape((1,embedding_matrix.shape[1])))\n",
    "        main_model = Sequential()\n",
    "        main_model.add(Merge([image_model,embedding_model],mode = 'concat',concat_axis = 1))\n",
    "        main_model.add(LSTM(1001))\n",
    "        main_model.add(Dense(1001,activation='softmax'))\n",
    "        return main_model"
   ]
  }
 ],
 "metadata": {
  "kernelspec": {
   "display_name": "Python 2",
   "language": "python",
   "name": "python2"
  },
  "language_info": {
   "codemirror_mode": {
    "name": "ipython",
    "version": 2
   },
   "file_extension": ".py",
   "mimetype": "text/x-python",
   "name": "python",
   "nbconvert_exporter": "python",
   "pygments_lexer": "ipython2",
   "version": "2.7.6"
  }
 },
 "nbformat": 4,
 "nbformat_minor": 1
}
